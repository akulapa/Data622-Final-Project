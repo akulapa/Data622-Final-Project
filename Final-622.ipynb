{
 "cells": [
  {
   "cell_type": "markdown",
   "metadata": {},
   "source": [
    "Data 622:Final Project, Desing Neural Networks\n",
    "_Pavan Akula_\n",
    "\n",
    "The assignment is based on the online book, _Neural Networks and Deep Learning,_ by Michael Nielsen. I will be using _Minist_ dataset and two different cost functions. Data is uploaded to _Hadoop_ and processed using _Spark_. "
   ]
  },
  {
   "cell_type": "markdown",
   "metadata": {},
   "source": [
    "Initialize the _Spark_ environment. I will be reading data from Hadoop storage and populate in RDD's."
   ]
  },
  {
   "cell_type": "code",
   "execution_count": 1,
   "metadata": {},
   "outputs": [],
   "source": [
    "from pyspark.sql import SparkSession\n",
    "from pyspark.sql import Row\n",
    "from pyspark.sql.types import *\n",
    "# Import all from `sql.functions` \n",
    "from pyspark.sql.functions import *\n",
    "\n",
    "import pandas as pd\n",
    "import numpy as np\n",
    "import random\n",
    "\n",
    "import matplotlib\n",
    "import matplotlib.pyplot as plt\n",
    "%matplotlib inline\n",
    "\n",
    "# Build the SparkSession\n",
    "spark = SparkSession.builder \\\n",
    "   .master(\"local\") \\\n",
    "   .appName(\"Neural Network\") \\\n",
    "   .config(\"spark.executor.memory\", \"1gb\") \\\n",
    "   .getOrCreate()\n",
    "   \n",
    "sc = spark.sparkContext"
   ]
  },
  {
   "cell_type": "markdown",
   "metadata": {},
   "source": [
    "Following functions will be used throughout the assignment. Functions are reproduced from online book _Neural Networks and Deep Learning_, by Michael Nielsen."
   ]
  },
  {
   "cell_type": "code",
   "execution_count": 2,
   "metadata": {},
   "outputs": [],
   "source": [
    "def vectorized_result(j):\n",
    "    \"\"\"Return a 10-dimensional unit vector with a 1.0 in the jth\n",
    "    position and zeroes elsewhere.  This is used to convert a digit\n",
    "    (0...9) into a corresponding desired output from the neural\n",
    "    network.\"\"\"\n",
    "    n = int(j[0])\n",
    "    e = np.zeros((10, 1))\n",
    "    e[n] = 1.0\n",
    "    return e\n",
    "\n",
    "#### Miscellaneous functions\n",
    "def sigmoid(z):\n",
    "    \"\"\"The sigmoid function.\"\"\"\n",
    "    return 1.0/(1.0+np.exp(-z))\n",
    "\n",
    "def sigmoid_prime(z):\n",
    "    \"\"\"Derivative of the sigmoid function.\"\"\"\n",
    "    return sigmoid(z)*(1-sigmoid(z))\n",
    "\n",
    "def cost_derivative(output_activations, y):\n",
    "    \"\"\"Return the vector of partial derivatives \\partial C_x /\n",
    "    \\partial a for the output activations.\"\"\"\n",
    "    return (output_activations-y)\n",
    "\n",
    "def CrossEntropyCost(a, y):\n",
    "    \"\"\"Return the cost associated with an output ``a`` and desired output\n",
    "    ``y``.  Note that np.nan_to_num is used to ensure numerical\n",
    "    stability.  In particular, if both ``a`` and ``y`` have a 1.0\n",
    "    in the same slot, then the expression (1-y)*np.log(1-a)\n",
    "    returns nan.  The np.nan_to_num ensures that that is converted\n",
    "    to the correct value (0.0).\n",
    "\n",
    "    \"\"\"\n",
    "    return np.sum(np.nan_to_num(-y*np.log(a)-(1-y)*np.log(1-a)))\n",
    "\n",
    "def feedforward(a, weights, biases):\n",
    "    \"\"\"Return the output of the network if ``a`` is input.\"\"\"\n",
    "    for b, w in zip(biases, weights):\n",
    "        a = sigmoid(np.dot(w, a)+b)\n",
    "    return a\n",
    "\n",
    "def evaluate(test_data, weights, biases):\n",
    "    \"\"\"Return the number of test inputs for which the neural\n",
    "    network outputs the correct result. Note that the neural\n",
    "    network's output is assumed to be the index of whichever\n",
    "    neuron in the final layer has the highest activation.\"\"\"\n",
    "    accuracy = 0\n",
    "    test_results = [(np.argmax(feedforward(x, weights, biases)), np.argmax(y))\n",
    "                    for (x, y) in test_data]\n",
    "    for (x, y) in test_results:\n",
    "        accuracy = accuracy + int(x == y) \n",
    "    return accuracy #sum(int(x == y) for (x, y) in test_results)"
   ]
  },
  {
   "cell_type": "markdown",
   "metadata": {},
   "source": [
    "Read data from Hadoop and after processing, load into a pandas data frame."
   ]
  },
  {
   "cell_type": "code",
   "execution_count": 3,
   "metadata": {},
   "outputs": [],
   "source": [
    "training_X = \"hdfs:///user/pavan/final-622/data/training_X.csv\"\n",
    "training_Y = \"hdfs:///user/pavan/final-622/data/training_Y.csv\"\n",
    "\n",
    "val_X = \"hdfs:///user/pavan/final-622/data/validation_X.csv\"\n",
    "val_Y = \"hdfs:///user/pavan/final-622/data/validation_Y.csv\"\n",
    "\n",
    "test_X = \"hdfs:///user/pavan/final-622/data/test_X.csv\"\n",
    "test_Y = \"hdfs:///user/pavan/final-622/data/test_Y.csv\"\n",
    "\n",
    "rdd_trX = sc.textFile(training_X)\n",
    "rdd_trY = sc.textFile(training_Y)\n",
    "\n",
    "rdd_ttX = sc.textFile(test_X)\n",
    "rdd_ttY = sc.textFile(test_Y)\n",
    "\n",
    "rdd_valX = sc.textFile(val_X)\n",
    "rdd_valY = sc.textFile(val_Y)\n",
    "\n",
    "rdd_trX = rdd_trX.map(lambda line: line.split(\",\"))\n",
    "rdd_trY = rdd_trY.map(lambda line: line.split(\",\"))\n",
    "\n",
    "rdd_ttX = rdd_ttX.map(lambda line: line.split(\",\"))\n",
    "rdd_ttY = rdd_ttY.map(lambda line: line.split(\",\"))\n",
    "\n",
    "rdd_valX = rdd_valX.map(lambda line: line.split(\",\"))\n",
    "rdd_valY = rdd_valY.map(lambda line: line.split(\",\"))\n",
    "\n",
    "Df_trX = rdd_trX.toDF()\n",
    "for i in range(784):\n",
    "    name = '_' + str(i+1)\n",
    "    Df_trX = Df_trX.withColumn(name, Df_trX[name].cast(FloatType()))\n",
    "    \n",
    "Df_ttX = rdd_ttX.toDF()\n",
    "for i in range(784):\n",
    "    name = '_' + str(i+1)\n",
    "    Df_ttX = Df_ttX.withColumn(name, Df_ttX[name].cast(FloatType()))\n",
    "    \n",
    "Df_valX = rdd_valX.toDF()\n",
    "for i in range(784):\n",
    "    name = '_' + str(i+1)\n",
    "    Df_valX = Df_valX.withColumn(name, Df_valX[name].cast(FloatType()))\n",
    "\n",
    "training_inputs = [np.reshape(x, (784, 1)) for x in Df_trX.rdd.collect()]\n",
    "test_inputs = [np.reshape(x, (784, 1)) for x in Df_ttX.rdd.collect()]\n",
    "validation_inputs = [np.reshape(x, (784, 1)) for x in Df_valX.rdd.collect()]\n",
    "\n",
    "# Map the RDD to a DF training dataset\n",
    "Df_trY = rdd_trY.toDF()\n",
    "Df_trY = Df_trY.withColumn('_1', Df_trY['_1'].cast(FloatType()))\n",
    "training_results = [vectorized_result(y) for y in Df_trY.rdd.collect()]\n",
    "training_data = zip(training_inputs, training_results)\n",
    "\n",
    "# Map the RDD to a DF test dataset\n",
    "Df_ttY = rdd_ttY.toDF()\n",
    "Df_ttY = Df_ttY.withColumn('_1', Df_ttY['_1'].cast(FloatType()))\n",
    "test_results = [vectorized_result(y) for y in Df_ttY.rdd.collect()]\n",
    "test_data = zip(test_inputs, test_results)\n",
    "\n",
    "# Map the RDD to a DF validation dataset\n",
    "Df_valY = rdd_valY.toDF()\n",
    "Df_valY = Df_valY.withColumn('_1', Df_valY['_1'].cast(FloatType()))\n",
    "validation_results = [vectorized_result(y) for y in Df_valY.rdd.collect()]\n",
    "validation_data = zip(validation_inputs, validation_results)\n",
    "\n",
    "#Convert datasets into lists\n",
    "training_data = list(training_data)\n",
    "n = len(training_data)\n",
    "test_data = list(test_data)\n",
    "n_test = len(test_data)\n",
    "validation_data = list(validation_data)\n",
    "n_val = len(validation_data)\n",
    "\n",
    "random.shuffle(training_data)"
   ]
  },
  {
   "cell_type": "markdown",
   "metadata": {},
   "source": [
    "Displayed are top 20 images from training dataset."
   ]
  },
  {
   "cell_type": "code",
   "execution_count": 4,
   "metadata": {},
   "outputs": [
    {
     "data": {
      "image/png": "[encoded data removed]",
      "text/plain": [
       "<Figure size 432x288 with 20 Axes>"
      ]
     },
     "metadata": {
      "needs_background": "light"
     },
     "output_type": "display_data"
    }
   ],
   "source": [
    "i = 0\n",
    "for x,y in training_data:\n",
    "    image = x.reshape(28, 28)\n",
    "    plt.subplot(4, 5, i+1)\n",
    "    plt.imshow(image, cmap='gray')\n",
    "    plt.title('num = {}'.format(np.argmax(y)))\n",
    "    plt.axis('off')  \n",
    "    i = i + 1\n",
    "    if i==20:\n",
    "        break\n",
    "    \n",
    "plt.tight_layout()\n",
    "plt.show()"
   ]
  },
  {
   "cell_type": "markdown",
   "metadata": {},
   "source": [
    "For the scope of the assignment, I have two hidden layers with 36 neurons. Input dataset has 784 independent variables(_x_). The model contains a total of four layers, \n",
    "\n",
    "- Input layer, 784 _x_ variables\n",
    "- Hidden layer, 36 neurons, neuron contains data that is derived using the summation of the dot product between _x_ and weights, plus biases.\n",
    "- Output layer, it is vectorized output of numeric values of dependent variable _y_. The vector contains 10 valid outputs.\n",
    "\n",
    "In simple terms, we could conclude that we are using neural networks to solve the classification problem. As out is classified into 0-9 numbers.\n",
    "\n",
    "Let's activate hidden layers and predict output layer using training data."
   ]
  },
  {
   "cell_type": "code",
   "execution_count": 5,
   "metadata": {},
   "outputs": [],
   "source": [
    "#Initiate layers\n",
    "sizes = [784, 36, 36, 10]\n",
    "\n",
    "#Assign random weights, seed it so results could be reproduced\n",
    "np.random.seed(2003)\n",
    "num_layers = len(sizes)\n",
    "biases = [np.random.randn(y, 1) for y in sizes[1:]]\n",
    "weights = [np.random.randn(y, x) for x, y in zip(sizes[:-1], sizes[1:])]\n",
    "\n",
    "#Activations, using sigmoid function\n",
    "activations = []\n",
    "\n",
    "#loop through each observations and calculate sigmoid\n",
    "for x, y in training_data:\n",
    "    activations.append(x)\n",
    "    activation = x\n",
    "    \n",
    "    # This loop will convert 784 observation to first hidden layer 36 neurons and then second hiidden layer\n",
    "    # ultimately generates 10 valid outputs\n",
    "    for w, b in zip(weights, biases):\n",
    "        z = np.dot(w, activation)+b\n",
    "        activation = sigmoid(z)\n",
    "        activations.append(activation)\n"
   ]
  },
  {
   "cell_type": "markdown",
   "metadata": {},
   "source": [
    "After running activations on all the observations, follows displays how the model learns the data."
   ]
  },
  {
   "cell_type": "code",
   "execution_count": 6,
   "metadata": {},
   "outputs": [
    {
     "data": {
      "image/png": "[encoded data removed]",
      "text/plain": [
       "<Figure size 432x288 with 9 Axes>"
      ]
     },
     "metadata": {
      "needs_background": "light"
     },
     "output_type": "display_data"
    }
   ],
   "source": [
    "i = 0\n",
    "for i in range(0, len(activations), 4):\n",
    "    image1 = activations[i].reshape(28, 28)\n",
    "    image2 = activations[i+1].reshape(6, 6)\n",
    "    image3 = activations[i+2].reshape(6, 6)\n",
    "    #image4 = activations[i+3] #.reshape(28, 28)\n",
    "    plt.subplot(3, 4, i+1)\n",
    "    plt.imshow(image1, cmap='gray')\n",
    "    plt.subplot(3, 4, i+2)\n",
    "    plt.imshow(image2, cmap='gray')\n",
    "    plt.subplot(3, 4, i+3)\n",
    "    plt.imshow(image3, cmap='gray')\n",
    "    #plt.imshow(image4, cmap='gray')\n",
    "    plt.title('num = {}'.format(np.argmax(activations[i+3])))\n",
    "    plt.axis('off')  \n",
    "    i = i + 1\n",
    "    if i>8:\n",
    "        break\n",
    "plt.tight_layout()\n",
    "plt.show()\n"
   ]
  },
  {
   "cell_type": "markdown",
   "metadata": {},
   "source": [
    "The accuracy of the model after running once is 8%. The model predicts 4041 observations correctly out of 50000 observations. This indicates model performs very poorly. This method is also called _feed forward_."
   ]
  },
  {
   "cell_type": "code",
   "execution_count": 7,
   "metadata": {},
   "outputs": [],
   "source": [
    "i = 3\n",
    "accuracy = 0\n",
    "accuracy_id = []\n",
    "for x, y in training_data:\n",
    "    predit = np.argmax(activations[i])\n",
    "    actual = np.argmax(y)\n",
    "    accuracy = accuracy + int(predit == actual)\n",
    "    if int(predit == actual)>0:\n",
    "        accuracy_id.append(i)\n",
    "    i = i + 4\n",
    "    "
   ]
  },
  {
   "cell_type": "code",
   "execution_count": 8,
   "metadata": {},
   "outputs": [
    {
     "name": "stdout",
     "output_type": "stream",
     "text": [
      "4041\n"
     ]
    }
   ],
   "source": [
    "print(accuracy)"
   ]
  },
  {
   "cell_type": "code",
   "execution_count": 9,
   "metadata": {},
   "outputs": [
    {
     "data": {
      "image/png": "[encoded data removed]",
      "text/plain": [
       "<Figure size 432x288 with 9 Axes>"
      ]
     },
     "metadata": {
      "needs_background": "light"
     },
     "output_type": "display_data"
    }
   ],
   "source": [
    "j = 0\n",
    "for i in accuracy_id[:3]:\n",
    "    image1 = activations[i-3].reshape(28, 28)\n",
    "    image2 = activations[i-2].reshape(6, 6)\n",
    "    image3 = activations[i-1].reshape(6, 6)\n",
    "    #image4 = activations[i+3] #.reshape(28, 28)\n",
    "    plt.subplot(3, 3, j+1)\n",
    "    plt.imshow(image1, cmap='gray')\n",
    "    plt.subplot(3, 3, j+2)\n",
    "    plt.imshow(image2, cmap='gray')\n",
    "    plt.subplot(3, 3, j+3)\n",
    "    plt.imshow(image3, cmap='gray')\n",
    "    #plt.imshow(image4, cmap='gray')\n",
    "    plt.title('num = {}'.format(np.argmax(activations[i])))\n",
    "    plt.axis('off')  \n",
    "    j = j + 3\n",
    "\n",
    "plt.tight_layout()\n",
    "plt.show()"
   ]
  },
  {
   "cell_type": "markdown",
   "metadata": {},
   "source": [
    "Let's apply _back propagation_ and fix weights and biases to improve the prediction. During this process, we will be using hyper-parameters\n",
    "\n",
    "- epoch, one epoch is when entire dataset is passed forward and backward through the neural network once. For the scope of the assignment, I have used 30. In other words, full dataset is processed 30 times to improve the weights and biases.\n",
    "- mini_batch_size, since the dataset is large and takes a lot of resources for processing, I have split the dataset into a batch of 10 observations and a total of 5000 batches.\n",
    "- eta, learning rate. It is greek alphabet Eta, $\\eta\\$, this is picked randomly.\n",
    "\n",
    "In the following example, I am using eta as 1."
   ]
  },
  {
   "cell_type": "code",
   "execution_count": 10,
   "metadata": {
    "scrolled": true
   },
   "outputs": [
    {
     "name": "stdout",
     "output_type": "stream",
     "text": [
      "Epoch 0: 8826 / 10000\n",
      "Epoch 1: 9080 / 10000\n",
      "Epoch 2: 9186 / 10000\n",
      "Epoch 3: 9232 / 10000\n",
      "Epoch 4: 9300 / 10000\n",
      "Epoch 5: 9328 / 10000\n",
      "Epoch 6: 9373 / 10000\n",
      "Epoch 7: 9356 / 10000\n",
      "Epoch 8: 9405 / 10000\n",
      "Epoch 9: 9396 / 10000\n",
      "Epoch 10: 9426 / 10000\n",
      "Epoch 11: 9426 / 10000\n",
      "Epoch 12: 9416 / 10000\n",
      "Epoch 13: 9412 / 10000\n",
      "Epoch 14: 9445 / 10000\n",
      "Epoch 15: 9410 / 10000\n",
      "Epoch 16: 9434 / 10000\n",
      "Epoch 17: 9449 / 10000\n",
      "Epoch 18: 9465 / 10000\n",
      "Epoch 19: 9460 / 10000\n",
      "Epoch 20: 9467 / 10000\n",
      "Epoch 21: 9476 / 10000\n",
      "Epoch 22: 9484 / 10000\n",
      "Epoch 23: 9489 / 10000\n",
      "Epoch 24: 9478 / 10000\n",
      "Epoch 25: 9482 / 10000\n",
      "Epoch 26: 9477 / 10000\n",
      "Epoch 27: 9470 / 10000\n",
      "Epoch 28: 9466 / 10000\n",
      "Epoch 29: 9491 / 10000\n"
     ]
    }
   ],
   "source": [
    "eta = 1\n",
    "epochs = 30\n",
    "mini_batch_size = 10\n",
    "\n",
    "\n",
    "for j in range(epochs):\n",
    "    #After each forward and backword passes re-shuffle entire dataset.\n",
    "    random.shuffle(training_data)\n",
    "    mini_batches = [\n",
    "        training_data[k:k+mini_batch_size]\n",
    "        for k in range(0, n, mini_batch_size)]\n",
    "\n",
    "    for mini_batch in mini_batches:\n",
    "        #Activate hidden layers for each observation\n",
    "        for x, y in mini_batch:\n",
    "            activations = []\n",
    "            activations.append(x)\n",
    "            activation = x\n",
    "            zs = []\n",
    "            delta = [np.zeros(b.shape) for b in biases]\n",
    "            nweight = [np.zeros(w.shape) for w in weights]\n",
    "            #Feed Forward\n",
    "            for w, b in zip(weights, biases):\n",
    "                z = np.dot(w, activation)+b\n",
    "                zs.append(z)\n",
    "                activation = sigmoid(z)\n",
    "                activations.append(activation)\n",
    "            #Backward Propogation\n",
    "            for l in range(1, num_layers):\n",
    "                if l==1:\n",
    "                    delta[-l] = cost_derivative(activations[-l], y) * sigmoid_prime(zs[-l])\n",
    "                    nweight[-l] = np.dot(delta[-l], activations[-l-1].transpose())\n",
    "                else:\n",
    "                    delta[-l] = np.dot(weights[-l+1].transpose(), delta[-l+1]) * sigmoid_prime(zs[-l])\n",
    "                    nweight[-l] = np.dot(delta[-l], activations[-l-1].transpose())\n",
    "         \n",
    "            weights = [w-(eta/len(mini_batch))*nw for w, nw in zip(weights, nweight)]\n",
    "            biases = [b-(eta/len(mini_batch))*nb for b, nb in zip(biases, delta)]\n",
    "\n",
    "    print(\"Epoch {0}: {1} / {2}\".format(j, evaluate(test_data, weights, biases), n_test))\n"
   ]
  },
  {
   "cell_type": "markdown",
   "metadata": {},
   "source": [
    "Following example uses eta as 2."
   ]
  },
  {
   "cell_type": "code",
   "execution_count": 11,
   "metadata": {},
   "outputs": [
    {
     "name": "stdout",
     "output_type": "stream",
     "text": [
      "Epoch 0: 9115 / 10000\n",
      "Epoch 1: 9178 / 10000\n",
      "Epoch 2: 9329 / 10000\n",
      "Epoch 3: 9341 / 10000\n",
      "Epoch 4: 9369 / 10000\n",
      "Epoch 5: 9392 / 10000\n",
      "Epoch 6: 9402 / 10000\n",
      "Epoch 7: 9472 / 10000\n",
      "Epoch 8: 9470 / 10000\n",
      "Epoch 9: 9455 / 10000\n",
      "Epoch 10: 9458 / 10000\n",
      "Epoch 11: 9453 / 10000\n",
      "Epoch 12: 9483 / 10000\n",
      "Epoch 13: 9497 / 10000\n",
      "Epoch 14: 9501 / 10000\n",
      "Epoch 15: 9506 / 10000\n",
      "Epoch 16: 9505 / 10000\n",
      "Epoch 17: 9504 / 10000\n",
      "Epoch 18: 9496 / 10000\n",
      "Epoch 19: 9520 / 10000\n",
      "Epoch 20: 9481 / 10000\n",
      "Epoch 21: 9520 / 10000\n",
      "Epoch 22: 9528 / 10000\n",
      "Epoch 23: 9507 / 10000\n",
      "Epoch 24: 9503 / 10000\n",
      "Epoch 25: 9527 / 10000\n",
      "Epoch 26: 9527 / 10000\n",
      "Epoch 27: 9523 / 10000\n",
      "Epoch 28: 9523 / 10000\n",
      "Epoch 29: 9514 / 10000\n"
     ]
    }
   ],
   "source": [
    "#Assign random weights, seed it so results could be reproduced\n",
    "np.random.seed(2003)\n",
    "num_layers = len(sizes)\n",
    "biases = [np.random.randn(y, 1) for y in sizes[1:]]\n",
    "weights = [np.random.randn(y, x) for x, y in zip(sizes[:-1], sizes[1:])]\n",
    "\n",
    "eta = 2\n",
    "epochs = 30\n",
    "mini_batch_size = 10\n",
    "\n",
    "\n",
    "for j in range(epochs):\n",
    "    #After each forward and backword passes re-shuffle entire dataset.\n",
    "    random.shuffle(training_data)\n",
    "    mini_batches = [\n",
    "        training_data[k:k+mini_batch_size]\n",
    "        for k in range(0, n, mini_batch_size)]\n",
    "\n",
    "    for mini_batch in mini_batches:\n",
    "        #Activate hidden layers for each observation\n",
    "        for x, y in mini_batch:\n",
    "            activations = []\n",
    "            activations.append(x)\n",
    "            activation = x\n",
    "            zs = []\n",
    "            delta = [np.zeros(b.shape) for b in biases]\n",
    "            nweight = [np.zeros(w.shape) for w in weights]\n",
    "            #Feed Forward\n",
    "            for w, b in zip(weights, biases):\n",
    "                z = np.dot(w, activation)+b\n",
    "                zs.append(z)\n",
    "                activation = sigmoid(z)\n",
    "                activations.append(activation)\n",
    "            #Backward Propogation\n",
    "            for l in range(1, num_layers):\n",
    "                if l==1:\n",
    "                    delta[-l] = cost_derivative(activations[-l], y) * sigmoid_prime(zs[-l])\n",
    "                    nweight[-l] = np.dot(delta[-l], activations[-l-1].transpose())\n",
    "                else:\n",
    "                    delta[-l] = np.dot(weights[-l+1].transpose(), delta[-l+1]) * sigmoid_prime(zs[-l])\n",
    "                    nweight[-l] = np.dot(delta[-l], activations[-l-1].transpose())\n",
    "         \n",
    "            weights = [w-(eta/len(mini_batch))*nw for w, nw in zip(weights, nweight)]\n",
    "            biases = [b-(eta/len(mini_batch))*nb for b, nb in zip(biases, delta)]\n",
    "\n",
    "    print(\"Epoch {0}: {1} / {2}\".format(j, evaluate(test_data, weights, biases), n_test))"
   ]
  },
  {
   "cell_type": "markdown",
   "metadata": {},
   "source": [
    "Comparing the results with _eta_ as 1 and eta as 2, later model learns at a faster rate. _eta_ is one of the hyper-parameter that can be tuned to make learning faster. On larger datasets tuning _eta_ is a time-consuming process.\n",
    "\n",
    "To speed up the process, we could change the complete cost evaluation method and use a new technique called _cross-entropy_. This method uses hyper-parameter known as lambda, $\\lambda$ to make learning fast."
   ]
  },
  {
   "cell_type": "code",
   "execution_count": 14,
   "metadata": {},
   "outputs": [
    {
     "name": "stdout",
     "output_type": "stream",
     "text": [
      "Epoch 0: 9150 / 10000\n",
      "Epoch 1: 9141 / 10000\n",
      "Epoch 2: 9235 / 10000\n",
      "Epoch 3: 9041 / 10000\n",
      "Epoch 4: 9243 / 10000\n",
      "Epoch 5: 8909 / 10000\n",
      "Epoch 6: 9213 / 10000\n",
      "Epoch 7: 8989 / 10000\n",
      "Epoch 8: 9305 / 10000\n",
      "Epoch 9: 9094 / 10000\n",
      "Epoch 10: 9260 / 10000\n",
      "Epoch 11: 9273 / 10000\n",
      "Epoch 12: 9053 / 10000\n",
      "Epoch 13: 9121 / 10000\n",
      "Epoch 14: 9298 / 10000\n",
      "Epoch 15: 9054 / 10000\n",
      "Epoch 16: 9257 / 10000\n",
      "Epoch 17: 9307 / 10000\n",
      "Epoch 18: 9307 / 10000\n",
      "Epoch 19: 9136 / 10000\n",
      "Epoch 20: 9321 / 10000\n",
      "Epoch 21: 9317 / 10000\n",
      "Epoch 22: 9223 / 10000\n",
      "Epoch 23: 9232 / 10000\n",
      "Epoch 24: 9276 / 10000\n",
      "Epoch 25: 9298 / 10000\n",
      "Epoch 26: 9348 / 10000\n",
      "Epoch 27: 9055 / 10000\n",
      "Epoch 28: 9141 / 10000\n",
      "Epoch 29: 9309 / 10000\n"
     ]
    }
   ],
   "source": [
    "#Assign random weights, seed it so results could be reproduced\n",
    "np.random.seed(2003)\n",
    "num_layers = len(sizes)\n",
    "biases = [np.random.randn(y, 1) for y in sizes[1:]]\n",
    "weights = [np.random.randn(y, x) for x, y in zip(sizes[:-1], sizes[1:])]\n",
    "\n",
    "eta = 1\n",
    "epochs = 30\n",
    "mini_batch_size = 10\n",
    "lmbda = 5.0\n",
    "\n",
    "for j in range(epochs):\n",
    "    #After each forward and backword passes re-shuffle entire dataset.\n",
    "    random.shuffle(training_data)\n",
    "    mini_batches = [\n",
    "        training_data[k:k+mini_batch_size]\n",
    "        for k in range(0, n, mini_batch_size)]\n",
    "\n",
    "    for mini_batch in mini_batches:\n",
    "        #Activate hidden layers for each observation\n",
    "        for x, y in mini_batch:\n",
    "            activations = []\n",
    "            activations.append(x)\n",
    "            activation = x\n",
    "            zs = []\n",
    "            delta = [np.zeros(b.shape) for b in biases]\n",
    "            nweight = [np.zeros(w.shape) for w in weights]\n",
    "            #Feed Forward\n",
    "            for w, b in zip(weights, biases):\n",
    "                z = np.dot(w, activation)+b\n",
    "                zs.append(z)\n",
    "                activation = sigmoid(z)\n",
    "                activations.append(activation)\n",
    "            #Backward Propogation\n",
    "            for l in range(1, num_layers):\n",
    "                if l==1:\n",
    "                    delta[-l] = cost_derivative(activations[-l], y)\n",
    "                    nweight[-l] = np.dot(delta[-l], activations[-l-1].transpose())\n",
    "                else:\n",
    "                    delta[-l] = np.dot(weights[-l+1].transpose(), delta[-l+1]) * sigmoid_prime(zs[-l])\n",
    "                    nweight[-l] = np.dot(delta[-l], activations[-l-1].transpose())\n",
    "        \n",
    "            #Calculate weights using cross-entropy\n",
    "            weights = [(1-eta*(lmbda/n))*w-(eta/len(mini_batch))*nw for w, nw in zip(weights, nweight)]\n",
    "            biases = [b-(eta/len(mini_batch))*nb for b, nb in zip(biases, delta)]\n",
    "\n",
    "\n",
    "    print(\"Epoch {0}: {1} / {2}\".format(j, evaluate(test_data, weights, biases), n_test))"
   ]
  },
  {
   "cell_type": "markdown",
   "metadata": {},
   "source": [
    "####Referances\n",
    "\n",
    "- http://neuralnetworksanddeeplearning.com/index.html\n",
    "- http://blog.madhukaraphatak.com/spark-vector-to-numpy/\n",
    "- https://www.analyticsvidhya.com/blog/2016/10/spark-dataframe-and-operations/\n",
    "- https://github.com/MichalDanielDobrzanski/DeepLearningPython35"
   ]
  }
 ],
 "metadata": {
  "kernelspec": {
   "display_name": "Python 3",
   "language": "python",
   "name": "python3"
  },
  "language_info": {
   "codemirror_mode": {
    "name": "ipython",
    "version": 3
   },
   "file_extension": ".py",
   "mimetype": "text/x-python",
   "name": "python",
   "nbconvert_exporter": "python",
   "pygments_lexer": "ipython3",
   "version": "3.6.6"
  }
 },
 "nbformat": 4,
 "nbformat_minor": 2
}
